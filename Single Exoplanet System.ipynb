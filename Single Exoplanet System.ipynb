{
 "cells": [
  {
   "cell_type": "markdown",
   "metadata": {},
   "source": [
    "Refer \"Alpha in terms of time\", \"Limb Darkening\", \"Night Sky Coordinates of the Planet w.r.t the Star\" notebooks for this"
   ]
  },
  {
   "cell_type": "code",
   "execution_count": 286,
   "metadata": {},
   "outputs": [],
   "source": [
    "import numpy as np\n",
    "import matplotlib.pyplot as plt\n",
    "import sys\n",
    "import copy\n",
    "import time\n",
    "import random\n",
    "from scipy.integrate import solve_ivp\n",
    "\n",
    "np.set_printoptions(threshold=sys.maxsize)"
   ]
  },
  {
   "cell_type": "code",
   "execution_count": 287,
   "metadata": {},
   "outputs": [],
   "source": [
    "def der_alpha(t, alpha, e): \n",
    "    return (2 * np.pi / (1 - e*e)**1.5) * (1 + e*np.cos(alpha))**2"
   ]
  },
  {
   "cell_type": "code",
   "execution_count": 288,
   "metadata": {},
   "outputs": [],
   "source": [
    "class system(object):\n",
    "    def __init__(self, semi_major, eccentricity, periastron_angle, inclination, star_radius, planet_radius, Period, time_split=100, img_split=100):\n",
    "        self.a_actual = semi_major\n",
    "        self.e = eccentricity\n",
    "        self.w = periastron_angle\n",
    "        self.i = inclination\n",
    "        self.Rs_actual = star_radius\n",
    "        self.Rp_actual = planet_radius\n",
    "        self.P_actual = Period\n",
    "        self.time_split = int(time_split)\n",
    "        self.split = int(img_split)\n",
    "        self.u = [0.1, 0.2]\n",
    "\n",
    "        self.a = self.a_actual/self.Rs_actual\n",
    "        self.Rp = self.Rp_actual/self.Rs_actual\n",
    "        self.Rs = 1.0\n",
    "        self.P = 1.0\n",
    "        \n",
    "        self.init_alpha_wrt_time()\n",
    "        self.init_stellar_limb_darkening()\n",
    "        \n",
    "        \n",
    "    def init_alpha_wrt_time(self):\n",
    "        t_span = (0, 1)\n",
    "        t = np.linspace(0, 1, self.time_split+1)\n",
    "        y0 = np.array([0])\n",
    "        sol = solve_ivp(der_alpha, t_span, y0, t_eval = t, args = (self.e,))\n",
    "        print(sol.y[0][0], sol.y[0][1], sol.y[0][-1])\n",
    "        self.alpha_array = sol.y[0]\n",
    "        self.time_array = sol.t\n",
    "\n",
    "        \n",
    "    def init_stellar_limb_darkening(self):\n",
    "        self.star = np.zeros((2*self.split+1, 2*self.split+1))\n",
    "        self.lum_total = 0\n",
    "        for i in range(-self.split, self.split+1):\n",
    "            rg_j = abs(int((self.split**2 - i**2)**0.5))\n",
    "            for j in range(-rg_j, rg_j+1):\n",
    "                x = (i)/self.split\n",
    "                y = (j)/self.split\n",
    "                cosine = abs((1 - x**2 - y**2)**0.5)\n",
    "                lum = 1 - self.u[0]*(1 - cosine) - self.u[1]*((1 - cosine)**2)\n",
    "                self.lum_total += lum\n",
    "                self.star[self.split+i][self.split+j] = lum\n",
    "\n",
    "\n",
    "    def output(self, time):\n",
    "        t = (time/self.P_actual) % 1\n",
    "        n = time * self.time_split\n",
    "        alpha = self.alpha_array[int(n)]\n",
    "        \n",
    "        angle = alpha + self.w\n",
    "        r = self.a * (1 - self.e**2) / (1 + self.e*np.cos(alpha))\n",
    "        orig_x = r * np.cos(angle)\n",
    "        orig_y = r * np.sin(angle) * np.cos(self.i)\n",
    "        \n",
    "        if orig_y*(self.i - (np.pi/2)) > 0: # Only the part of orbit which is away from us\n",
    "            return self.star, self.lum_total\n",
    "        else:\n",
    "            cur_star = copy.deepcopy(self.star)\n",
    "            cur_total = copy.deepcopy(self.lum_total)\n",
    "            x, y, Rp = int(orig_x*self.split), int(orig_y*self.split), int(self.Rp*self.split)\n",
    "            for i in range(-Rp, Rp+1):\n",
    "                if y-i >= -self.split and y-i <= self.split:\n",
    "                    rg_j = abs(int((Rp**2 - i**2)**0.5))\n",
    "                    for j in range(-rg_j, rg_j+1):\n",
    "                        if x+j >= -self.split and x+j <= self.split:\n",
    "                            m = self.split - y + i\n",
    "                            n = self.split + x + j\n",
    "                            lum = cur_star[m][n]\n",
    "                            cur_total -= lum\n",
    "                            cur_star[m][n] = 0\n",
    "        return cur_star, cur_total"
   ]
  },
  {
   "cell_type": "code",
   "execution_count": 289,
   "metadata": {},
   "outputs": [],
   "source": [
    "semi_major = 4\n",
    "eccentricity = 0.4 \n",
    "periastron_angle = 200*(np.pi/180) \n",
    "inclination = 80*(np.pi/180) # Never put 90.\n",
    "star_radius = 1.0\n",
    "planet_radius = 0.1\n",
    "Period = 1.0\n",
    "time_split = 1000\n",
    "split = 1000"
   ]
  },
  {
   "cell_type": "code",
   "execution_count": 290,
   "metadata": {},
   "outputs": [
    {
     "name": "stdout",
     "output_type": "stream",
     "text": [
      "0.0 0.015995817022508636 6.245047059915596\n"
     ]
    }
   ],
   "source": [
    "exo = system(semi_major, eccentricity, periastron_angle, inclination, star_radius, planet_radius, Period, time_split, split)"
   ]
  },
  {
   "cell_type": "code",
   "execution_count": 291,
   "metadata": {
    "scrolled": true
   },
   "outputs": [],
   "source": [
    "time = exo.time_array\n",
    "# print(time)"
   ]
  },
  {
   "cell_type": "code",
   "execution_count": 292,
   "metadata": {
    "scrolled": false
   },
   "outputs": [],
   "source": [
    "# total = exo.lum_total\n",
    "# for t in time:\n",
    "#     new_star, new_total = exo.output(t)\n",
    "#     print(total, new_total, total - new_total)\n",
    "#     plt.imshow(new_star, 'gray')\n",
    "#     plt.show()"
   ]
  },
  {
   "cell_type": "code",
   "execution_count": 293,
   "metadata": {},
   "outputs": [],
   "source": [
    "total_lum = exo.lum_total\n",
    "lum = []\n",
    "for t in time:\n",
    "    lum.append(exo.output(t)[1])\n",
    "lum = np.array(lum)/total_lum"
   ]
  },
  {
   "cell_type": "code",
   "execution_count": 294,
   "metadata": {},
   "outputs": [
    {
     "data": {
      "text/plain": [
       "(0.75, 0.9)"
      ]
     },
     "execution_count": 294,
     "metadata": {},
     "output_type": "execute_result"
    },
    {
     "data": {
      "image/png": "[encoded data removed]",
      "text/plain": [
       "<Figure size 432x288 with 1 Axes>"
      ]
     },
     "metadata": {
      "needs_background": "light"
     },
     "output_type": "display_data"
    }
   ],
   "source": [
    "plt.scatter(time, lum, s=1)\n",
    "plt.xlim(0.75,0.90)"
   ]
  },
  {
   "cell_type": "markdown",
   "metadata": {},
   "source": [
    "Takes few seconds - Managable speed"
   ]
  },
  {
   "cell_type": "code",
   "execution_count": null,
   "metadata": {},
   "outputs": [],
   "source": []
  }
 ],
 "metadata": {
  "kernelspec": {
   "display_name": "Python 3",
   "language": "python",
   "name": "python3"
  },
  "language_info": {
   "codemirror_mode": {
    "name": "ipython",
    "version": 3
   },
   "file_extension": ".py",
   "mimetype": "text/x-python",
   "name": "python",
   "nbconvert_exporter": "python",
   "pygments_lexer": "ipython3",
   "version": "3.8.3"
  }
 },
 "nbformat": 4,
 "nbformat_minor": 4
}
