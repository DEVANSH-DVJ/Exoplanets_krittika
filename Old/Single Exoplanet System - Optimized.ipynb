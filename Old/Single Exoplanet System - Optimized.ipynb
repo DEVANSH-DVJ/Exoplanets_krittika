{
 "cells": [
  {
   "cell_type": "markdown",
   "metadata": {},
   "source": [
    "Refer \"Alpha in terms of time\", \"Limb Darkening\", \"Night Sky Coordinates of the Planet w.r.t the Star\" notebooks for this"
   ]
  },
  {
   "cell_type": "code",
   "execution_count": 16,
   "metadata": {},
   "outputs": [],
   "source": [
    "import numpy as np\n",
    "import matplotlib.pyplot as plt\n",
    "import sys\n",
    "import copy\n",
    "import time\n",
    "import random\n",
    "from scipy.integrate import solve_ivp\n",
    "\n",
    "np.set_printoptions(threshold=sys.maxsize)"
   ]
  },
  {
   "cell_type": "code",
   "execution_count": 17,
   "metadata": {},
   "outputs": [],
   "source": [
    "def der_alpha(t, alpha, e): \n",
    "    return (2 * np.pi / (1 - e*e)**1.5) * (1 + e*np.cos(alpha))**2"
   ]
  },
  {
   "cell_type": "code",
   "execution_count": 18,
   "metadata": {},
   "outputs": [],
   "source": [
    "class system(object):\n",
    "    def __init__(self, semi_major, eccentricity, periastron_angle, inclination, star_radius, \\\n",
    "                 planet_radius, Period, time_split=100, img_split=100):\n",
    "        self.a_actual = semi_major\n",
    "        self.e = eccentricity\n",
    "        self.w = periastron_angle\n",
    "        self.i = inclination\n",
    "        self.Rs_actual = star_radius\n",
    "        self.Rp_actual = planet_radius\n",
    "        self.P_actual = Period\n",
    "        self.time_split = int(time_split)\n",
    "        self.split = int(img_split)\n",
    "        self.u = [0.1, 0.2]\n",
    "\n",
    "        self.a = self.a_actual/self.Rs_actual\n",
    "        self.Rp = self.Rp_actual/self.Rs_actual\n",
    "        self.Rs = 1.0\n",
    "        self.P = 1.0\n",
    "        \n",
    "        self.init_alpha_wrt_time()\n",
    "        self.init_stellar_limb_darkening()\n",
    "        \n",
    "        \n",
    "    def init_alpha_wrt_time(self):\n",
    "        t_span = (0, 1)\n",
    "        t = np.linspace(0, 1, self.time_split+1)\n",
    "        y0 = np.array([0])\n",
    "        sol = solve_ivp(der_alpha, t_span, y0, t_eval = t, args = (self.e,))\n",
    "        print(sol.y[0][0], sol.y[0][1], sol.y[0][-1])\n",
    "        self.alpha_array = sol.y[0]\n",
    "        self.time_array = sol.t\n",
    "\n",
    "        \n",
    "    def init_stellar_limb_darkening(self):\n",
    "        self.star = np.zeros((2*self.split+1, 2*self.split+1))\n",
    "        self.lum_total = 0\n",
    "        for i in range(-self.split, self.split+1):\n",
    "            rg_j = abs(int((self.split**2 - i**2)**0.5))\n",
    "            for j in range(-rg_j, rg_j+1):\n",
    "                x = (i)/self.split\n",
    "                y = (j)/self.split\n",
    "                cosine = abs((1 - x**2 - y**2)**0.5)\n",
    "                lum = 1 - self.u[0]*(1 - cosine) - self.u[1]*((1 - cosine)**2)\n",
    "                self.lum_total += lum\n",
    "                self.star[self.split+i][self.split+j] = lum\n",
    "\n",
    "\n",
    "    def output(self, time):\n",
    "        t = (time/self.P_actual) % 1\n",
    "        n = time * self.time_split\n",
    "        alpha = self.alpha_array[int(n)]\n",
    "        \n",
    "        angle = alpha + self.w\n",
    "        r = self.a * (1 - self.e**2) / (1 + self.e*np.cos(alpha))\n",
    "        orig_x = r * np.cos(angle)\n",
    "        orig_y = r * np.sin(angle) * np.cos(self.i)\n",
    "        \n",
    "        if orig_y*(self.i - (np.pi/2)) > 0: # Only the part of orbit which is away from us\n",
    "            return self.lum_total\n",
    "        if orig_x**2 + orig_y**2 > 2*((1+self.Rp)**2):\n",
    "            return self.lum_total\n",
    "        cur_star = copy.deepcopy(self.star)\n",
    "        cur_total = copy.deepcopy(self.lum_total)\n",
    "        x, y, Rp = int(orig_x*self.split), int(orig_y*self.split), int(self.Rp*self.split)\n",
    "        for i in range(-Rp, Rp+1):\n",
    "            if y-i >= -self.split and y-i <= self.split:\n",
    "                rg_j = abs(int((Rp**2 - i**2)**0.5))\n",
    "                for j in range(-rg_j, rg_j+1):\n",
    "                    if x+j >= -self.split and x+j <= self.split:\n",
    "                        m = self.split - y + i\n",
    "                        n = self.split + x + j\n",
    "                        lum = cur_star[m][n]\n",
    "                        cur_total -= lum\n",
    "                        cur_star[m][n] = 0\n",
    "        return cur_total"
   ]
  },
  {
   "cell_type": "code",
   "execution_count": 19,
   "metadata": {},
   "outputs": [
    {
     "name": "stdout",
     "output_type": "stream",
     "text": [
      "time.struct_time(tm_year=2020, tm_mon=6, tm_mday=28, tm_hour=23, tm_min=33, tm_sec=46, tm_wday=6, tm_yday=180, tm_isdst=0)\n",
      "0.0 0.0006283185307179587 6.283185307179596\n",
      "time.struct_time(tm_year=2020, tm_mon=6, tm_mday=28, tm_hour=23, tm_min=33, tm_sec=49, tm_wday=6, tm_yday=180, tm_isdst=0)\n"
     ]
    }
   ],
   "source": [
    "print(time.localtime())\n",
    "exo = system(semi_major = 26, \\\n",
    "             eccentricity = 0 , \\\n",
    "             periastron_angle = 200*(np.pi/180) , \\\n",
    "             inclination = 89.9*(np.pi/180), \\\n",
    "             # Never put 90.\n",
    "             star_radius = 1.0, \\\n",
    "             planet_radius = 0.1, \\\n",
    "             Period = 17.2, \\\n",
    "             time_split = 10000, \\\n",
    "             img_split = 1000)\n",
    "times = exo.time_array\n",
    "print(time.localtime())"
   ]
  },
  {
   "cell_type": "code",
   "execution_count": 20,
   "metadata": {},
   "outputs": [
    {
     "name": "stdout",
     "output_type": "stream",
     "text": [
      "time.struct_time(tm_year=2020, tm_mon=6, tm_mday=28, tm_hour=23, tm_min=33, tm_sec=49, tm_wday=6, tm_yday=180, tm_isdst=0)\n",
      "time.struct_time(tm_year=2020, tm_mon=6, tm_mday=28, tm_hour=23, tm_min=33, tm_sec=54, tm_wday=6, tm_yday=180, tm_isdst=0)\n"
     ]
    }
   ],
   "source": [
    "print(time.localtime())\n",
    "total_lum = exo.lum_total\n",
    "lum = []\n",
    "for t in times:\n",
    "    lum.append(exo.output(t))\n",
    "lum = np.array(lum)/total_lum\n",
    "print(time.localtime())"
   ]
  },
  {
   "cell_type": "code",
   "execution_count": 21,
   "metadata": {},
   "outputs": [
    {
     "name": "stdout",
     "output_type": "stream",
     "text": [
      "time.struct_time(tm_year=2020, tm_mon=6, tm_mday=28, tm_hour=23, tm_min=33, tm_sec=54, tm_wday=6, tm_yday=180, tm_isdst=0)\n",
      "time.struct_time(tm_year=2020, tm_mon=6, tm_mday=28, tm_hour=23, tm_min=33, tm_sec=54, tm_wday=6, tm_yday=180, tm_isdst=0)\n"
     ]
    },
    {
     "data": {
      "image/png": "[encoded data removed]",
      "text/plain": [
       "<Figure size 432x288 with 1 Axes>"
      ]
     },
     "metadata": {
      "needs_background": "light"
     },
     "output_type": "display_data"
    }
   ],
   "source": [
    "print(time.localtime())\n",
    "plt.scatter(times*exo.P_actual, lum, s=1)\n",
    "plt.xlim(11.5,12.5)\n",
    "print(time.localtime())"
   ]
  },
  {
   "cell_type": "markdown",
   "metadata": {},
   "source": [
    "<font size=\"4\">$3 + 5 + 1$ seconds for with the LC for time as $\\frac{P}{10^5}$ and the LC in luminosity as $\\frac{1}{10^6}$</font>"
   ]
  },
  {
   "cell_type": "code",
   "execution_count": null,
   "metadata": {},
   "outputs": [],
   "source": []
  }
 ],
 "metadata": {
  "kernelspec": {
   "display_name": "Python 3",
   "language": "python",
   "name": "python3"
  },
  "language_info": {
   "codemirror_mode": {
    "name": "ipython",
    "version": 3
   },
   "file_extension": ".py",
   "mimetype": "text/x-python",
   "name": "python",
   "nbconvert_exporter": "python",
   "pygments_lexer": "ipython3",
   "version": "3.8.3"
  }
 },
 "nbformat": 4,
 "nbformat_minor": 4
}
