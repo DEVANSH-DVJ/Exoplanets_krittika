{
 "cells": [
  {
   "cell_type": "markdown",
   "metadata": {},
   "source": [
    "Refer \"Alpha in terms of time\", \"Limb Darkening\", \"Night Sky Coordinates of the Planet w.r.t the Star\" notebooks for this"
   ]
  },
  {
   "cell_type": "code",
   "execution_count": 140,
   "metadata": {},
   "outputs": [],
   "source": [
    "import numpy as np\n",
    "import scipy\n",
    "import matplotlib.pyplot as plt\n",
    "import sys\n",
    "import copy\n",
    "import time\n",
    "import random\n",
    "from scipy.integrate import solve_ivp\n",
    "\n",
    "np.set_printoptions(threshold=sys.maxsize)"
   ]
  },
  {
   "cell_type": "code",
   "execution_count": 141,
   "metadata": {},
   "outputs": [],
   "source": [
    "def der_alpha(t, alpha, e, P): \n",
    "    return (2 * np.pi / P / (1 - e*e)**1.5) * (1 + e*np.cos(alpha))**2"
   ]
  },
  {
   "cell_type": "code",
   "execution_count": 142,
   "metadata": {},
   "outputs": [],
   "source": [
    "class planet(object):\n",
    "    def __init__(self, semi_major, eccentricity, periastron_angle, inclination, planet_radius):\n",
    "        self.a = semi_major\n",
    "        self.e = eccentricity\n",
    "        self.w = periastron_angle\n",
    "        self.i = inclination\n",
    "        self.Rp = planet_radius\n",
    "        \n",
    "    def reduce_distances(self, Rs):\n",
    "        self.a /= Rs\n",
    "        self.Rp /= Rs"
   ]
  },
  {
   "cell_type": "code",
   "execution_count": 143,
   "metadata": {},
   "outputs": [],
   "source": [
    "class system(object):\n",
    "    def __init__(self, star_radius, star_mass, planets, time_split=100, img_split=100):\n",
    "        try:\n",
    "            self.n = len(planets)\n",
    "#             period_constant = (2 * np.pi) / ((scipy.constants.G * star_mass)**0.5)\n",
    "            period_constant = 200.0 / (star_mass)**0.5\n",
    "            self.a, self.e, self.w, self.i, self.Rp, self.P  = ([] for i in range(6))\n",
    "            for planet in planets:\n",
    "                planet.reduce_distances(star_radius)\n",
    "                self.a.append(planet.a)\n",
    "                self.e.append(planet.e)\n",
    "                self.w.append(planet.w)\n",
    "                self.i.append(planet.i)\n",
    "                self.Rp.append(planet.Rp)\n",
    "                self.P.append(planet.a**1.5 * period_constant)\n",
    "            \n",
    "            self.time_split = int(time_split)\n",
    "            self.split = int(img_split)\n",
    "            self.u = [0.1, 0.2]\n",
    "\n",
    "            self.init_alpha_wrt_time()\n",
    "            self.init_stellar_limb_darkening()\n",
    "        except:\n",
    "            raise NameError('Check the input again! or try to debug')\n",
    "        \n",
    "        \n",
    "    def init_alpha_wrt_time(self):\n",
    "        self.total_time = max(self.P)\n",
    "        t_span = (0, self.total_time)\n",
    "        t = np.linspace(0, self.total_time, self.time_split+1)\n",
    "        y0 = np.array([0])\n",
    "        \n",
    "        self.alpha_array = []\n",
    "        for i in range(self.n):\n",
    "            sol = solve_ivp(der_alpha, t_span, y0, t_eval = t, args = (self.e[i], self.P[i]))\n",
    "            self.alpha_array.append(sol.y[0])\n",
    "            print(len(sol.y[0]))\n",
    "\n",
    "        self.time_array = sol.t\n",
    "        print(len(sol.t))\n",
    "        \n",
    "    def init_stellar_limb_darkening(self):\n",
    "        self.star = np.zeros((2*self.split+1, 2*self.split+1))\n",
    "        self.lum_total = 0\n",
    "        for i in range(-self.split, self.split+1):\n",
    "            rg_j = abs(int((self.split**2 - i**2)**0.5))\n",
    "            for j in range(-rg_j, rg_j+1):\n",
    "                x = (i)/self.split\n",
    "                y = (j)/self.split\n",
    "                cosine = abs((1 - x**2 - y**2)**0.5)\n",
    "                lum = 1 - self.u[0]*(1 - cosine) - self.u[1]*((1 - cosine)**2)\n",
    "                self.lum_total += lum\n",
    "                self.star[self.split+i][self.split+j] = lum\n",
    "\n",
    "\n",
    "    def output(self, time):\n",
    "        cur_star = copy.deepcopy(self.star)\n",
    "        cur_total = copy.deepcopy(self.lum_total)\n",
    "        t = time - int(time/self.total_time)\n",
    "        l = time * self.time_split / self.total_time\n",
    "        \n",
    "        for k in range(self.n):\n",
    "            alpha = self.alpha_array[k][int(l)]\n",
    "\n",
    "            angle = alpha + self.w[k]\n",
    "            r = self.a[k] * (1 - self.e[k]**2) / (1 + self.e[k]*np.cos(alpha))\n",
    "            orig_x = r * np.cos(angle)\n",
    "            orig_y = r * np.sin(angle) * np.cos(self.i[k])\n",
    "\n",
    "            if orig_y*(self.i[k] - (np.pi/2)) > 0: # Only the part of orbit which is away from us\n",
    "                continue\n",
    "            if orig_x**2 + orig_y**2 > 2 * ((1 + self.Rp[k])**2):\n",
    "                continue\n",
    "            x, y, Rp = int(orig_x*self.split), int(orig_y*self.split), int(self.Rp[k]*self.split)\n",
    "            for i in range(-Rp, Rp+1):\n",
    "                if y-i >= -self.split and y-i <= self.split:\n",
    "                    rg_j = abs(int((Rp**2 - i**2)**0.5))\n",
    "                    for j in range(-rg_j, rg_j+1):\n",
    "                        if x+j >= -self.split and x+j <= self.split:\n",
    "                            m = self.split - y + i\n",
    "                            n = self.split + x + j\n",
    "                            lum = cur_star[m][n]\n",
    "                            cur_total -= lum\n",
    "                            cur_star[m][n] = 0\n",
    "        return cur_total"
   ]
  },
  {
   "cell_type": "code",
   "execution_count": 144,
   "metadata": {},
   "outputs": [],
   "source": [
    "planet1 = planet(semi_major = 5, \\\n",
    "                 eccentricity = 0.04, \\\n",
    "                 periastron_angle = 270.0*(np.pi/180), \\\n",
    "                 inclination = 89.9*(np.pi/180), \\\n",
    "                 planet_radius = 0.1)\n",
    "\n",
    "planet2 = planet(semi_major = 5*(3**(2/3)), \\\n",
    "                 eccentricity = 0.04, \\\n",
    "                 periastron_angle = 270.0*(np.pi/180), \\\n",
    "                 inclination = 89.9*(np.pi/180), \\\n",
    "                 planet_radius = 0.05)"
   ]
  },
  {
   "cell_type": "code",
   "execution_count": 145,
   "metadata": {},
   "outputs": [
    {
     "name": "stdout",
     "output_type": "stream",
     "text": [
      "time.struct_time(tm_year=2020, tm_mon=6, tm_mday=29, tm_hour=0, tm_min=53, tm_sec=34, tm_wday=0, tm_yday=181, tm_isdst=0)\n",
      "10001\n",
      "10001\n",
      "10001\n",
      "time.struct_time(tm_year=2020, tm_mon=6, tm_mday=29, tm_hour=0, tm_min=53, tm_sec=34, tm_wday=0, tm_yday=181, tm_isdst=0)\n"
     ]
    }
   ],
   "source": [
    "print(time.localtime())\n",
    "exo = system(star_radius = 1.0, \\\n",
    "             star_mass = 40, \\\n",
    "             planets = [planet1, planet2], \\\n",
    "             time_split = 10000, \\\n",
    "             img_split = 100)\n",
    "times = exo.time_array\n",
    "print(time.localtime())"
   ]
  },
  {
   "cell_type": "code",
   "execution_count": 146,
   "metadata": {},
   "outputs": [
    {
     "name": "stdout",
     "output_type": "stream",
     "text": [
      "time.struct_time(tm_year=2020, tm_mon=6, tm_mday=29, tm_hour=0, tm_min=53, tm_sec=34, tm_wday=0, tm_yday=181, tm_isdst=0)\n",
      "time.struct_time(tm_year=2020, tm_mon=6, tm_mday=29, tm_hour=0, tm_min=53, tm_sec=35, tm_wday=0, tm_yday=181, tm_isdst=0)\n"
     ]
    }
   ],
   "source": [
    "print(time.localtime())\n",
    "total_lum = exo.lum_total\n",
    "lum = []\n",
    "for t in times:\n",
    "    lum.append(exo.output(t))\n",
    "lum = np.array(lum)/total_lum\n",
    "print(time.localtime())"
   ]
  },
  {
   "cell_type": "code",
   "execution_count": 147,
   "metadata": {},
   "outputs": [
    {
     "name": "stdout",
     "output_type": "stream",
     "text": [
      "time.struct_time(tm_year=2020, tm_mon=6, tm_mday=29, tm_hour=0, tm_min=53, tm_sec=35, tm_wday=0, tm_yday=181, tm_isdst=0)\n",
      "time.struct_time(tm_year=2020, tm_mon=6, tm_mday=29, tm_hour=0, tm_min=53, tm_sec=35, tm_wday=0, tm_yday=181, tm_isdst=0)\n"
     ]
    },
    {
     "data": {
      "image/png": "[encoded data removed]",
      "text/plain": [
       "<Figure size 432x288 with 1 Axes>"
      ]
     },
     "metadata": {
      "needs_background": "light"
     },
     "output_type": "display_data"
    }
   ],
   "source": [
    "print(time.localtime())\n",
    "plt.scatter(times, lum, s=1)\n",
    "print(time.localtime())"
   ]
  },
  {
   "cell_type": "code",
   "execution_count": 148,
   "metadata": {},
   "outputs": [
    {
     "name": "stdout",
     "output_type": "stream",
     "text": [
      "time.struct_time(tm_year=2020, tm_mon=6, tm_mday=29, tm_hour=0, tm_min=53, tm_sec=35, tm_wday=0, tm_yday=181, tm_isdst=0)\n",
      "time.struct_time(tm_year=2020, tm_mon=6, tm_mday=29, tm_hour=0, tm_min=53, tm_sec=35, tm_wday=0, tm_yday=181, tm_isdst=0)\n"
     ]
    },
    {
     "data": {
      "image/png": "[encoded data removed]",
      "text/plain": [
       "<Figure size 432x288 with 1 Axes>"
      ]
     },
     "metadata": {
      "needs_background": "light"
     },
     "output_type": "display_data"
    }
   ],
   "source": [
    "print(time.localtime())\n",
    "plt.scatter(times, lum, s=1)\n",
    "plt.xlim(400,600)\n",
    "print(time.localtime())"
   ]
  },
  {
   "cell_type": "markdown",
   "metadata": {},
   "source": [
    "<font size=\"4\">For two planets where one crosses the other during the transit period</font>"
   ]
  },
  {
   "cell_type": "code",
   "execution_count": null,
   "metadata": {},
   "outputs": [],
   "source": []
  }
 ],
 "metadata": {
  "kernelspec": {
   "display_name": "Python 3",
   "language": "python",
   "name": "python3"
  },
  "language_info": {
   "codemirror_mode": {
    "name": "ipython",
    "version": 3
   },
   "file_extension": ".py",
   "mimetype": "text/x-python",
   "name": "python",
   "nbconvert_exporter": "python",
   "pygments_lexer": "ipython3",
   "version": "3.8.3"
  }
 },
 "nbformat": 4,
 "nbformat_minor": 4
}
