{
 "cells": [
  {
   "cell_type": "markdown",
   "metadata": {},
   "source": [
    "First you need to simulate the light curve of the star while the planet is in transit.  \n",
    "Assume that the planet emits no light of it's own, and ignore limb darkening.  \n",
    "\n",
    "Parameters of this plot should be \n",
    "* Radius of star ($R_s$),\n",
    "* Radius of planet ($R_p$),\n",
    "* Orbital Radius ($a$),\n",
    "* Orbital period ($P$),\n",
    "* Angle of inclination ($i$)\n",
    "\n",
    "Flux of the star can be normalized to 1."
   ]
  },
  {
   "cell_type": "markdown",
   "metadata": {},
   "source": [
    "We need to find $t_T$ and $t_F$ and maximum dip in Intensity ($\\delta$)"
   ]
  },
  {
   "cell_type": "markdown",
   "metadata": {},
   "source": [
    "${\\large \\delta = \\left( \\frac{R_p}{R_s} \\right)^2}\\tag{1.2}$\n",
    "\n",
    "${\\large \\left( \\frac{t_F}{t_T} \\right) ^ 2 = \\frac {\\left[ 1 - \\frac{R_p}{R_s} \\right]^2 - \\left[ \\frac{a \\cos i }{R_s} \\right]^2} {\\left[ 1 + \\frac{R_p}{R_s} \\right]^2 - \\left[ \\frac{a \\cos i }{R_s} \\right]^2} }\\tag{1.4}$\n",
    "\n",
    "${\\large t_T = \\frac{P R_s}{\\pi a} \\sqrt{ \\left( 1 + \\frac{R_p}{R_s} \\right) ^ 2 - \\left( \\frac{a}{R_s} \\cos i \\right)^2 } }\\tag{1.6}$\n",
    "\n",
    "${\\large t_F = \\frac{P R_s}{\\pi a} \\sqrt{ \\left( 1 - \\frac{R_p}{R_s} \\right) ^ 2 - \\left( \\frac{a}{R_s} \\cos i \\right)^2 } }\\tag{from 1.4 and 1.6}$"
   ]
  },
  {
   "cell_type": "code",
   "execution_count": 56,
   "metadata": {},
   "outputs": [],
   "source": [
    "import numpy as np\n",
    "import matplotlib.pyplot as plt\n",
    "%matplotlib inline"
   ]
  },
  {
   "cell_type": "code",
   "execution_count": 62,
   "metadata": {},
   "outputs": [],
   "source": [
    "def delta_tT_tF(R_s, R_p, a, P, i):\n",
    "    prop = (P * R_s) / (np.pi * a)\n",
    "    ratio = R_p / R_s\n",
    "    b = a * np.cos(i*np.pi/180) / R_s\n",
    "    print(b)\n",
    "\n",
    "    t_T = prop * ((((1 + ratio) ** 2) - (b ** 2)) ** 0.5)\n",
    "    t_F = prop * ((((1 - ratio) ** 2) - (b ** 2)) ** 0.5)\n",
    "    \n",
    "    delta = ratio * ratio\n",
    "    \n",
    "    return delta, t_T, t_F    "
   ]
  },
  {
   "cell_type": "code",
   "execution_count": 88,
   "metadata": {},
   "outputs": [],
   "source": [
    "t = np.linspace(0.0, 1.0, 2000000)"
   ]
  },
  {
   "cell_type": "code",
   "execution_count": 89,
   "metadata": {},
   "outputs": [],
   "source": [
    "def flux_time(delta, t_T, t_F, x):\n",
    "    t1, t2 = t_T / 2, t_F / 2\n",
    "    flux = []\n",
    "    for time in x:\n",
    "        if time < 0.5 - t1:\n",
    "            flux.append(1.0)\n",
    "        elif time < 0.5 - t2:\n",
    "            diff_fl = (time - 0.5 + t1) * delta / (t1 - t2)\n",
    "            flux.append(1.0 - diff_fl)\n",
    "        elif time < 0.5 + t2:\n",
    "            flux.append(1.0 - delta)\n",
    "        elif time < 0.5 + t1:\n",
    "            diff_fl = (0.5 + t1 - time) * delta / (t1 - t2)\n",
    "            flux.append(1.0 - diff_fl)\n",
    "        else:\n",
    "            flux.append(1.0)\n",
    "    return flux"
   ]
  },
  {
   "cell_type": "code",
   "execution_count": 90,
   "metadata": {},
   "outputs": [],
   "source": [
    "R_s, R_p, a, P, i = 696340000, 69911000, 778500000000, 4332.59*24*3600, 90"
   ]
  },
  {
   "cell_type": "code",
   "execution_count": 91,
   "metadata": {},
   "outputs": [
    {
     "name": "stdout",
     "output_type": "stream",
     "text": [
      "6.845704204384456e-14\n",
      "0.010079717076411147 117279.98457444001 95879.26600680703\n"
     ]
    }
   ],
   "source": [
    "delta, t_T, t_F = delta_tT_tF(R_s, R_p, a, P, i)\n",
    "print(delta, t_T, t_F)"
   ]
  },
  {
   "cell_type": "code",
   "execution_count": 92,
   "metadata": {},
   "outputs": [
    {
     "name": "stdout",
     "output_type": "stream",
     "text": [
      "0.00025613171957896704\n"
     ]
    }
   ],
   "source": [
    "y = flux_time(delta, t_T/P, t_F/P, t)\n",
    "print(t_F/P)"
   ]
  },
  {
   "cell_type": "code",
   "execution_count": 93,
   "metadata": {},
   "outputs": [
    {
     "data": {
      "text/plain": [
       "<matplotlib.collections.PathCollection at 0x7f2e6bc58f40>"
      ]
     },
     "execution_count": 93,
     "metadata": {},
     "output_type": "execute_result"
    },
    {
     "data": {
      "image/png": "[encoded data removed]",
      "text/plain": [
       "<Figure size 864x576 with 1 Axes>"
      ]
     },
     "metadata": {
      "needs_background": "light"
     },
     "output_type": "display_data"
    }
   ],
   "source": [
    "fig = plt.figure(figsize=(12,8))\n",
    "ax = fig.add_subplot(111, xlim=(0.4995,0.5005))\n",
    "\n",
    "ax.scatter(t, y, s=1)"
   ]
  },
  {
   "cell_type": "code",
   "execution_count": null,
   "metadata": {},
   "outputs": [],
   "source": []
  }
 ],
 "metadata": {
  "kernelspec": {
   "display_name": "Python 3",
   "language": "python",
   "name": "python3"
  },
  "language_info": {
   "codemirror_mode": {
    "name": "ipython",
    "version": 3
   },
   "file_extension": ".py",
   "mimetype": "text/x-python",
   "name": "python",
   "nbconvert_exporter": "python",
   "pygments_lexer": "ipython3",
   "version": "3.8.3"
  }
 },
 "nbformat": 4,
 "nbformat_minor": 4
}
